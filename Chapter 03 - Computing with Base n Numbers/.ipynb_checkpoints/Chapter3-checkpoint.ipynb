{
  "cells": [
    {
      "cell_type": "markdown",
      "metadata": {
        "id": "4lwBQ-4mj3ZZ"
      },
      "source": [
        "# Chapter 3 - Computing with Base-$n$ Numbers\n",
        "\n",
        "This notebook contains code accompanying Chapter 3 Computing with Base-$n$ Numbers in *Practical Discrete Mathematics* by Ryan T. White and Archana Tikayat Ray.\n",
        "\n",
        "## Converting between Bases\n",
        "\n",
        "Below, we can convert a user-input number in base-10 (decimal) to numbers in base-16 (hexadecimal) and base-2 (binary)."
      ]
    },
    {
      "cell_type": "code",
      "execution_count": null,
      "metadata": {
        "id": "C0IzJZdUj3Zb",
        "outputId": "a5c743e5-d46a-448c-84cc-758979225b53"
      },
      "outputs": [
        {
          "name": "stdin",
          "output_type": "stream",
          "text": [
            "Enter a number with base 10\n",
            " 123456\n"
          ]
        },
        {
          "name": "stdout",
          "output_type": "stream",
          "text": [
            "Hexadecimal form of 123456 is 1e240\n",
            "Binary form of 123456 is 11110001001000000\n"
          ]
        }
      ],
      "source": [
        "# TypeConversion from decimal with base 10 to hexadecimal form with base 16 to binary form with the base 2\n",
        "\n",
        "# Taking input from user - an integer with base 10\n",
        "number = int(input(\"Enter a number with base 10\\n\"))\n",
        "# Converting the decimal number input by user to Hexadecimal\n",
        "print(\"Hexadecimal form of \" + str(number) + \" is \" + hex(number).lstrip(\"0x\").rstrip(\"L\"))\n",
        "# Converting the decimal number input by user to Binary\n",
        "print(\"Binary form of \" + str(number) + \" is \" + bin(number).lstrip(\"0b\").rstrip(\"L\"))"
      ]
    },
    {
      "cell_type": "markdown",
      "metadata": {
        "id": "KmzkLrZVj3Zc"
      },
      "source": [
        "## Binary Numbers and their Applications\n",
        "\n",
        "Below is an example showing how we can use Boolean algebra with a dataset of Netflix users."
      ]
    },
    {
      "cell_type": "code",
      "execution_count": 8,
      "metadata": {
        "id": "i_eTh4cjj3Zc",
        "outputId": "e7485650-2e98-4570-bec5-264d34cbecf9",
        "colab": {
          "base_uri": "https://localhost:8080/"
        }
      },
      "outputs": [
        {
          "output_type": "stream",
          "name": "stdout",
          "text": [
            "Example for AND operator\n",
            "   CustomerID Country    State     City Zip Code\n",
            "0           1     USA  Georgia  Atlanta    30332\n",
            "1           2     USA  Georgia  Atlanta    30331\n",
            "Example for OR operator\n",
            "   CustomerID Country    State       City Zip Code\n",
            "0           1     USA  Georgia    Atlanta    30332\n",
            "1           2     USA  Georgia    Atlanta    30331\n",
            "2           3     USA  Florida  Melbourne    30912\n",
            "3           4     USA  Florida      Tampa    30123\n",
            "9          10  Canada  Ontario    Toronto  M4B 1B3\n",
            "Example for NOT operator\n",
            "   CustomerID  Country        State        City Zip Code\n",
            "4           5    India    Karnataka  Bangalore    560001\n",
            "5           6    India  Maharashtra      Mumbai   578234\n",
            "6           7    India    Karnataka       Hubli   569823\n",
            "7           8   India   Maharashtra      Mumbai   578234\n",
            "8           9  Germany      Bavaria      Munich    80331\n",
            "9          10   Canada      Ontario     Toronto  M4B 1B3\n"
          ]
        }
      ],
      "source": [
        "# Import packages with the functions we need\n",
        "import pandas as pd\n",
        "\n",
        "# Import the file you are trying to work with\n",
        "customer_df = pd.read_csv(\"CustomerList.csv\")\n",
        "\n",
        "# Using AND operator\n",
        "print(\"Example for AND operator\")\n",
        "print(customer_df.loc[(customer_df['Country'] == 'USA') & (customer_df['State'] == 'Georgia')])\n",
        "\n",
        "# Using OR operator\n",
        "print(\"Example for OR operator\")\n",
        "print(customer_df.loc[(customer_df['Country'] == 'USA') | (customer_df['State'] == 'Ontario')])\n",
        "\n",
        "# Using NOT operator\n",
        "print(\"Example for NOT operator\")\n",
        "print(customer_df.loc[(customer_df['Country'] != 'USA')])"
      ]
    },
    {
      "cell_type": "markdown",
      "metadata": {
        "id": "4mo7p40Ej3Zd"
      },
      "source": [
        "## Hexadecimal Numbers and Their Applications\n",
        "\n",
        "### Example: Defining locations in computer memory"
      ]
    },
    {
      "cell_type": "code",
      "execution_count": null,
      "metadata": {
        "id": "SUsy7GVgj3Zd",
        "outputId": "eb1cdf65-d8d5-45ec-a1d3-bbf2f64b37ef"
      },
      "outputs": [
        {
          "name": "stdout",
          "output_type": "stream",
          "text": [
            "The memory location of variable peanut_butter is:  140719185764912\n",
            "The memory location of variable sandwich is:  140719185764912\n",
            "We can see that the memory location of both the variables is the same because they were assigned the same value\n",
            "After setting the values of both variables equal to each other, we have: \n",
            "The value of variable sandwich is now set to:  7\n",
            "The value of variable peanut_butter is now set to:  7\n",
            "The value of  sandwich variable was changed to 10, let's see whether it affects the value of peanut_butter\n",
            "The value of variable peanut_butter:  7\n",
            "The value of peanut_butter did NOT change even though we changed the value of sandwich\n",
            "The memory location of variable peanut_butter is:  140719185764944\n"
          ]
        }
      ],
      "source": [
        "# Variable 1: peanut_butter\n",
        "peanut_butter = 6\n",
        "print(\"The memory location of variable peanut_butter is: \",id(peanut_butter))\n",
        "\n",
        "# Variable 2: sandwich\n",
        "sandwich = 6\n",
        "print(\"The memory location of variable sandwich is: \",id(sandwich))\n",
        "print(\"We can see that the memory location of both the variables is the same because they were assigned the same value\")\n",
        "\n",
        "# Setting value of sandwich variable to a new number\n",
        "sandwich = 7\n",
        "\n",
        "# Setting both the variables equal to each other:\n",
        "peanut_butter = sandwich\n",
        "print(\"After setting the values of both variables equal to each other, we have: \")\n",
        "print(\"The value of variable sandwich is now set to: \",sandwich)\n",
        "print(\"The value of variable peanut_butter is now set to: \",peanut_butter)\n",
        "print(\"The value of  sandwich variable was changed to 10, let's see whether it affects the value of peanut_butter\")\n",
        "\n",
        "# Setting value of sandwich variable to a new number\n",
        "sandwich = 10\n",
        "\n",
        "print(\"The value of variable peanut_butter: \" ,peanut_butter)\n",
        "print(\"The value of peanut_butter did NOT change even though we changed the value of sandwich\")\n",
        "print(\"The memory location of variable peanut_butter is: \",id(peanut_butter))"
      ]
    },
    {
      "cell_type": "markdown",
      "metadata": {
        "id": "lPrmdtN5j3Zd"
      },
      "source": [
        "### Example: Media Access Control (MAC) Addresses\n",
        "\n",
        "Note the MAC address generated by the code below will vary for different users, but they will be stored in a hexadecimal form."
      ]
    },
    {
      "cell_type": "code",
      "execution_count": null,
      "metadata": {
        "id": "VXdjXAvyj3Zd"
      },
      "outputs": [],
      "source": [
        "import uuid\n",
        "\n",
        "# address using uuid and getnode() function making use of hexadecimal number system\n",
        "print (hex(uuid.getnode()))"
      ]
    },
    {
      "cell_type": "code",
      "source": [
        "import pandas as pd\n",
        "import matplotlib.pyplot as plt\n",
        "import numpy as np\n",
        "\n",
        "customer_df = pd.read_csv(\"CustomerList.csv\")\n",
        "\n",
        "# Extract the columns you want to use for the bar chart\n",
        "values = customer_df['State'].value_counts()\n",
        "\n",
        "\n",
        "# Create a bar chart\n",
        "plt.figure(figsize=(10, 6))  # Adjust the figure size as needed\n",
        "plt.bar(values.index, values.values)\n",
        "plt.xlabel('State')\n",
        "plt.ylabel('Number of Users')\n",
        "plt.title('Number of User per State')\n",
        "plt.xticks(rotation=45)  # Rotate the x-axis labels for better readability\n",
        "\n",
        "# Display the bar chart\n",
        "plt.tight_layout()  # Ensure labels fit in the figure area\n",
        "plt.show()"
      ],
      "metadata": {
        "id": "QYHqbKmZloIi",
        "outputId": "c4fcdc25-4c96-457e-c129-b11c4805a0ae",
        "colab": {
          "base_uri": "https://localhost:8080/",
          "height": 530
        }
      },
      "execution_count": 25,
      "outputs": [
        {
          "output_type": "display_data",
          "data": {
            "text/plain": [
              "<Figure size 1000x600 with 1 Axes>"
            ],
            "image/png": "[encoded data removed]"
          },
          "metadata": {}
        }
      ]
    }
  ],
  "metadata": {
    "kernelspec": {
      "display_name": "Python 3",
      "name": "python3"
    },
    "language_info": {
      "name": "python"
    },
    "colab": {
      "provenance": []
    }
  },
  "nbformat": 4,
  "nbformat_minor": 0
}