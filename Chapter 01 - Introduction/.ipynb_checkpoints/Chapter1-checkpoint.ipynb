{
  "cells": [
    {
      "cell_type": "markdown",
      "metadata": {
        "id": "LGE_8hJTYaWw"
      },
      "source": [
        "# Chapter 1 - Introduction: Key Concepts, Notation, Set Theory, Relations, and Functions\n",
        "\n",
        "This notebook contains code accompanying Chapter 1 Introduction: Key Concepts, Notation, Set Theory, Relations, and Functions in *Practical Discrete Mathematics* by Ryan T. White and Archana Tikayat Ray\n",
        "\n",
        "## Functions and Relations\n",
        "\n",
        "### The `sort()` function"
      ]
    },
    {
      "cell_type": "code",
      "execution_count": 2,
      "metadata": {
        "id": "QIvmfMgaYaW1",
        "outputId": "527b43c0-4ef5-49c7-c363-51f98e7cd093",
        "colab": {
          "base_uri": "https://localhost:8080/"
        }
      },
      "outputs": [
        {
          "output_type": "stream",
          "name": "stdout",
          "text": [
            "[1, 2, 3, 4, 5, 8, 9, 12]\n",
            "['Brandon', 'Elise', 'Eugene', 'Kumar', 'Wyatt']\n"
          ]
        }
      ],
      "source": [
        "numbers = [3, 1, 4, 12, 8, 5, 2, 9]\n",
        "names = ['Wyatt', 'Brandon', 'Kumar', 'Eugene', 'Elise']\n",
        "\n",
        "# Apply the sort() function to the lists\n",
        "numbers.sort()\n",
        "names.sort()\n",
        "\n",
        "# Display the output\n",
        "print(numbers)\n",
        "print(names)"
      ]
    },
    {
      "cell_type": "code",
      "source": [],
      "metadata": {
        "id": "TIzhCTijeLjY"
      },
      "execution_count": null,
      "outputs": []
    },
    {
      "cell_type": "code",
      "source": [
        "character = ['Ling','Hao','Wei']\n",
        "\n",
        "#character.sort()\n",
        "\n",
        "print(character)"
      ],
      "metadata": {
        "id": "ZJI7323KaVEP",
        "outputId": "433fcc96-f2dd-4408-a646-a59a82008704",
        "colab": {
          "base_uri": "https://localhost:8080/"
        }
      },
      "execution_count": 6,
      "outputs": [
        {
          "output_type": "stream",
          "name": "stdout",
          "text": [
            "['Ling', 'Hao', 'Wei']\n"
          ]
        }
      ]
    },
    {
      "cell_type": "markdown",
      "metadata": {
        "id": "DAqgCES7YaW4"
      },
      "source": [
        "### The `shuffle()` function"
      ]
    },
    {
      "cell_type": "code",
      "execution_count": 17,
      "metadata": {
        "id": "80qMVpj1YaW4",
        "outputId": "cb391df5-cc35-4c18-ef00-cfdbdd0092ce",
        "colab": {
          "base_uri": "https://localhost:8080/"
        }
      },
      "outputs": [
        {
          "output_type": "stream",
          "name": "stdout",
          "text": [
            "[12, 2, 1, 5, 9, 3, 8, 4]\n",
            "[4, 2, 8, 3, 1, 12, 5, 9]\n",
            "[4, 5, 1, 9, 3, 8, 12, 2]\n",
            "[9, 12, 2, 8, 5, 3, 4, 1]\n",
            "[9, 8, 4, 3, 12, 1, 5, 2]\n"
          ]
        }
      ],
      "source": [
        "import random\n",
        "\n",
        "# Set a random seed so the code is reproducible\n",
        "random.seed(1)\n",
        "\n",
        "# Run the random.shuffle() function 5 times and display the outputs\n",
        "for i in range(0,5):\n",
        "    numbers = [3, 1, 4, 12, 8, 5, 2, 9]\n",
        "    random.shuffle(numbers)\n",
        "    print(numbers)"
      ]
    },
    {
      "cell_type": "code",
      "source": [
        "numbers = [3, 1, 4, 12, 8, 5, 2, 9]\n",
        "\n",
        "# Apply the sort() function to the lists\n",
        "numbers.sort(reverse=True)\n",
        "\n",
        "# Display the output\n",
        "print(numbers)"
      ],
      "metadata": {
        "id": "V_gQ9vRceNlh",
        "outputId": "52ca1520-56ca-499c-8d5f-988294908700",
        "colab": {
          "base_uri": "https://localhost:8080/"
        }
      },
      "execution_count": 19,
      "outputs": [
        {
          "output_type": "stream",
          "name": "stdout",
          "text": [
            "[12, 9, 8, 5, 4, 3, 2, 1]\n"
          ]
        }
      ]
    },
    {
      "cell_type": "code",
      "source": [
        "character = ['Ling Hao Wei']\n",
        "\n",
        "[len(i) for i in character]\n",
        "\n",
        "#print(len(character))\n",
        "\n"
      ],
      "metadata": {
        "id": "RxkgND9ye5Yg",
        "outputId": "401b6a34-7b73-4234-e738-d42637ed563b",
        "colab": {
          "base_uri": "https://localhost:8080/"
        }
      },
      "execution_count": 41,
      "outputs": [
        {
          "output_type": "execute_result",
          "data": {
            "text/plain": [
              "[12]"
            ]
          },
          "metadata": {},
          "execution_count": 41
        }
      ]
    },
    {
      "cell_type": "code",
      "source": [
        "test_str = 'Ling Hao Wei'\n",
        "\n",
        "res = sum(not chr.isspace() for chr in test_str)\n",
        "\n",
        "# printing result\n",
        "print(str(res))"
      ],
      "metadata": {
        "id": "TuWuU1DTigVQ",
        "outputId": "5a4eb12a-27ac-4f2a-b436-10e7a85d0f84",
        "colab": {
          "base_uri": "https://localhost:8080/"
        }
      },
      "execution_count": 42,
      "outputs": [
        {
          "output_type": "stream",
          "name": "stdout",
          "text": [
            "10\n"
          ]
        }
      ]
    }
  ],
  "metadata": {
    "kernelspec": {
      "display_name": "Python 3",
      "name": "python3"
    },
    "language_info": {
      "name": "python"
    },
    "colab": {
      "provenance": []
    }
  },
  "nbformat": 4,
  "nbformat_minor": 0
}